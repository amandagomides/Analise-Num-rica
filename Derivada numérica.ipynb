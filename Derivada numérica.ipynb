{
 "cells": [
  {
   "cell_type": "markdown",
   "id": "e2bb3b16",
   "metadata": {},
   "source": [
    "# Questão 8 (lista 3)"
   ]
  },
  {
   "cell_type": "code",
   "execution_count": 1,
   "id": "68149ab9",
   "metadata": {},
   "outputs": [],
   "source": [
    "def derivadanx2(x):\n",
    "    lista = []\n",
    "    for n in range(1,21):\n",
    "        x2 = ((x + 10**(-n))**2 - x**2)/10**(-n)\n",
    "        lista.append(x2)\n",
    "        \n",
    "    return lista"
   ]
  },
  {
   "cell_type": "code",
   "execution_count": 2,
   "id": "c6be2112",
   "metadata": {},
   "outputs": [
    {
     "data": {
      "text/plain": [
       "[4.100000000000001,\n",
       " 4.009999999999891,\n",
       " 4.000999999999699,\n",
       " 4.0001000000078335,\n",
       " 4.000010000027032,\n",
       " 4.0000010006480125,\n",
       " 4.000000091153311,\n",
       " 3.999999975690116,\n",
       " 4.000000330961484,\n",
       " 4.000000330961484,\n",
       " 4.000000330961484,\n",
       " 4.000355602329364,\n",
       " 3.9968028886505635,\n",
       " 4.085620730620576,\n",
       " 3.5527136788005005,\n",
       " 0.0,\n",
       " 0.0,\n",
       " 0.0,\n",
       " 0.0,\n",
       " 0.0]"
      ]
     },
     "execution_count": 2,
     "metadata": {},
     "output_type": "execute_result"
    }
   ],
   "source": [
    "derivadanx2(2)"
   ]
  },
  {
   "cell_type": "code",
   "execution_count": 17,
   "id": "8cc315a5",
   "metadata": {},
   "outputs": [
    {
     "data": {
      "text/plain": [
       "[0.10000200000000001,\n",
       " 0.010001999999999999,\n",
       " 0.0010019999999999999,\n",
       " 0.000102,\n",
       " 1.2000000000000002e-05,\n",
       " 3e-06,\n",
       " 2.100000000000001e-06,\n",
       " 2.009999999999968e-06,\n",
       " 2.0010000000001647e-06,\n",
       " 2.0001000000002513e-06,\n",
       " 2.0000100000031075e-06,\n",
       " 2.000000999991276e-06,\n",
       " 2.0000000980897584e-06,\n",
       " 2.000000017310402e-06,\n",
       " 1.9999997345826532e-06,\n",
       " 1.9999999365310453e-06,\n",
       " 2.0000160924023837e-06,\n",
       " 1.999692974975605e-06,\n",
       " 1.9992890781921325e-06,\n",
       " 1.9790942390184744e-06]"
      ]
     },
     "execution_count": 17,
     "metadata": {},
     "output_type": "execute_result"
    }
   ],
   "source": [
    "derivadanx2(0.000001)"
   ]
  },
  {
   "cell_type": "code",
   "execution_count": 3,
   "id": "e04d1d53",
   "metadata": {},
   "outputs": [],
   "source": [
    "def derivadaraiz(x):\n",
    "    lista = []\n",
    "    for n in range(1,21):\n",
    "        raiz = ((x + 10**(-n))**(1/2) - x**(1/2))/10**(-n)\n",
    "        lista.append(raiz)\n",
    "        \n",
    "    return lista"
   ]
  },
  {
   "cell_type": "code",
   "execution_count": 12,
   "id": "d4e02976",
   "metadata": {},
   "outputs": [
    {
     "data": {
      "text/plain": [
       "[3.1602782926238486,\n",
       " 9.98001999998,\n",
       " 31.4234090508914,\n",
       " 98.0199980003999,\n",
       " 296.85959035509717,\n",
       " 819.803902718557,\n",
       " 1741.6573867739414,\n",
       " 2360.679774997897,\n",
       " 2484.567313165871,\n",
       " 2498.4394500786234,\n",
       " 2499.8437695258112,\n",
       " 2499.9843751952794,\n",
       " 2499.998437432982,\n",
       " 2499.9998436431997,\n",
       " 2499.9999629054387,\n",
       " 2499.999990010493,\n",
       " 2499.9994479094066,\n",
       " 2500.0075794257004,\n",
       " 2499.8991592084517,\n",
       " 2499.086007579088]"
      ]
     },
     "execution_count": 12,
     "metadata": {},
     "output_type": "execute_result"
    }
   ],
   "source": [
    "derivadaraiz(0.00000004)"
   ]
  },
  {
   "cell_type": "code",
   "execution_count": 13,
   "id": "a7d6cb5e",
   "metadata": {
    "scrolled": true
   },
   "outputs": [
    {
     "data": {
      "text/plain": [
       "[0.16620625799671274,\n",
       " 0.16662039607266976,\n",
       " 0.16666203729398532,\n",
       " 0.16666620370475727,\n",
       " 0.1666666203714584,\n",
       " 0.1666666618049817,\n",
       " 0.1666666671340522,\n",
       " 0.1666666804567285,\n",
       " 0.1666666804567285,\n",
       " 0.1666666804567285,\n",
       " 0.1666666804567285,\n",
       " 0.16653345369377348,\n",
       " 0.16431300764452317,\n",
       " 0.17763568394002505,\n",
       " 0.44408920985006256,\n",
       " 0.0,\n",
       " 0.0,\n",
       " 0.0,\n",
       " 0.0,\n",
       " 0.0]"
      ]
     },
     "execution_count": 13,
     "metadata": {},
     "output_type": "execute_result"
    }
   ],
   "source": [
    "derivadaraiz(9)"
   ]
  },
  {
   "cell_type": "code",
   "execution_count": 19,
   "id": "07c474ea",
   "metadata": {},
   "outputs": [],
   "source": [
    "#conclusão: nas duas funções, o programa leva em consideração o tamanho do número, podendo ou não rodar todas as iterações"
   ]
  }
 ],
 "metadata": {
  "kernelspec": {
   "display_name": "Python 3 (ipykernel)",
   "language": "python",
   "name": "python3"
  },
  "language_info": {
   "codemirror_mode": {
    "name": "ipython",
    "version": 3
   },
   "file_extension": ".py",
   "mimetype": "text/x-python",
   "name": "python",
   "nbconvert_exporter": "python",
   "pygments_lexer": "ipython3",
   "version": "3.9.13"
  }
 },
 "nbformat": 4,
 "nbformat_minor": 5
}
