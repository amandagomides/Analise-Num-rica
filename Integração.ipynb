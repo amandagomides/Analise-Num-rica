{
 "cells": [
  {
   "cell_type": "markdown",
   "id": "d1b44b6d",
   "metadata": {},
   "source": [
    "# Trapézio e simpson composto"
   ]
  },
  {
   "cell_type": "code",
   "execution_count": 3,
   "id": "1320d516",
   "metadata": {},
   "outputs": [],
   "source": [
    "def trapezio_comp(f, a, b, n):\n",
    "    h = (b - a) / n\n",
    "    t = 0.5 * (f(a) + f(b))\n",
    "    for i in range(1, n):\n",
    "        t += f(a + i * h)\n",
    "    return h * s"
   ]
  },
  {
   "cell_type": "code",
   "execution_count": 9,
   "id": "99408c26",
   "metadata": {},
   "outputs": [],
   "source": [
    "def simpson_comp(f,a,b,m):\n",
    "    h = (b-a)/2*m\n",
    "    s=0.3333 * (f(a)+4*f((a+b)/2)+f(b))\n",
    "    for i in range(1,m):\n",
    "        s += f(a + i * h)\n",
    "    return h * s"
   ]
  },
  {
   "cell_type": "code",
   "execution_count": null,
   "id": "873b5515",
   "metadata": {},
   "outputs": [],
   "source": []
  }
 ],
 "metadata": {
  "kernelspec": {
   "display_name": "Python 3 (ipykernel)",
   "language": "python",
   "name": "python3"
  },
  "language_info": {
   "codemirror_mode": {
    "name": "ipython",
    "version": 3
   },
   "file_extension": ".py",
   "mimetype": "text/x-python",
   "name": "python",
   "nbconvert_exporter": "python",
   "pygments_lexer": "ipython3",
   "version": "3.9.13"
  }
 },
 "nbformat": 4,
 "nbformat_minor": 5
}
