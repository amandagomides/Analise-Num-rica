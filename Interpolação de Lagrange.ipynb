{
 "cells": [
  {
   "cell_type": "markdown",
   "id": "1cfad934",
   "metadata": {},
   "source": [
    "# Comandos"
   ]
  },
  {
   "cell_type": "markdown",
   "id": "faaf5704",
   "metadata": {},
   "source": [
    "## - Produtório"
   ]
  },
  {
   "cell_type": "code",
   "execution_count": 1,
   "id": "70071063",
   "metadata": {},
   "outputs": [],
   "source": [
    "def prod_lista(lista):\n",
    "    if 0 in lista:\n",
    "        return 0\n",
    "    else:\n",
    "        prod = lista[0]\n",
    "        for i in range(1,len(lista)):\n",
    "            prod=prod*lista[i]\n",
    "        return prod"
   ]
  },
  {
   "cell_type": "markdown",
   "id": "dce58e36",
   "metadata": {},
   "source": [
    "## - L_k (x)"
   ]
  },
  {
   "cell_type": "code",
   "execution_count": 2,
   "id": "85ad57a3",
   "metadata": {},
   "outputs": [],
   "source": [
    "def lagrangeAux(lista, k, x):\n",
    "    ListaAux=[]\n",
    "    for j in range(len(lista)):\n",
    "        if j!=k:\n",
    "            ListaAux.append((x-lista[j])/(lista[k]-lista[j]))\n",
    "    return prod_lista(ListaAux)"
   ]
  },
  {
   "cell_type": "markdown",
   "id": "e1aabeed",
   "metadata": {},
   "source": [
    "## - Lagrange"
   ]
  },
  {
   "cell_type": "code",
   "execution_count": 3,
   "id": "82e418b4",
   "metadata": {},
   "outputs": [],
   "source": [
    "def lagrange(listaX, listaY, x):\n",
    "    soma=0\n",
    "    for k in range(len(listaX)):\n",
    "        soma = soma + lagrangeAux(listaX,k,x) * listaY[k]\n",
    "    return soma"
   ]
  },
  {
   "cell_type": "markdown",
   "id": "9835e2d2",
   "metadata": {},
   "source": [
    "# Questão 1"
   ]
  },
  {
   "cell_type": "code",
   "execution_count": 4,
   "id": "1fa9e795",
   "metadata": {},
   "outputs": [
    {
     "name": "stdout",
     "output_type": "stream",
     "text": [
      "A população estimada de 1910 no Brasil é de 15753306 habitantes.\n",
      "A população estimada de 1985 no Brasil é de 133829331 habitantes.\n"
     ]
    }
   ],
   "source": [
    "Anos=[1872, 1890, 1900, 1920, 1940, 1950, 1960, 1970, 1980, 1991, 2000, 2010]\n",
    "Populacao=[9930478, 14333915, 17438434, 30635605, 41236315, 51944397, 70992343, 94508583, 121150573, 146917459, 169590693, 190755799]\n",
    "\n",
    "anos1934=round(lagrange(Anos,Populacao,1910))\n",
    "anos1985=round(lagrange(Anos,Populacao,1985))\n",
    "\n",
    "print(f\"A população estimada de 1910 no Brasil é de {anos1934} habitantes.\")\n",
    "print(f\"A população estimada de 1985 no Brasil é de {anos1985} habitantes.\")"
   ]
  },
  {
   "cell_type": "markdown",
   "id": "8aec6118",
   "metadata": {},
   "source": [
    "# Questão 5"
   ]
  },
  {
   "cell_type": "code",
   "execution_count": 1,
   "id": "4303ca5e",
   "metadata": {},
   "outputs": [],
   "source": [
    "def f(x):\n",
    "    f=1/(1+x**2)\n",
    "    return f"
   ]
  },
  {
   "cell_type": "code",
   "execution_count": 3,
   "id": "be5362d6",
   "metadata": {},
   "outputs": [
    {
     "ename": "SyntaxError",
     "evalue": "invalid syntax (1822492454.py, line 8)",
     "output_type": "error",
     "traceback": [
      "\u001b[1;36m  File \u001b[1;32m\"C:\\Users\\Cliente\\AppData\\Local\\Temp\\ipykernel_11868\\1822492454.py\"\u001b[1;36m, line \u001b[1;32m8\u001b[0m\n\u001b[1;33m    type b\u001b[0m\n\u001b[1;37m         ^\u001b[0m\n\u001b[1;31mSyntaxError\u001b[0m\u001b[1;31m:\u001b[0m invalid syntax\n"
     ]
    }
   ],
   "source": [
    "inputx=[(input(\"Lista x =\"))]\n",
    "n=len(x)\n",
    "j=list(range(1,n+1))\n",
    "x=[]\n",
    "for xi in inputx:\n",
    "    b=int(str(x.append(xi)))"
   ]
  },
  {
   "cell_type": "code",
   "execution_count": null,
   "id": "b41a5fac",
   "metadata": {},
   "outputs": [],
   "source": [
    "for i in range(0,len(x)):\n",
    "    y=f(x[i])"
   ]
  }
 ],
 "metadata": {
  "kernelspec": {
   "display_name": "Python 3 (ipykernel)",
   "language": "python",
   "name": "python3"
  },
  "language_info": {
   "codemirror_mode": {
    "name": "ipython",
    "version": 3
   },
   "file_extension": ".py",
   "mimetype": "text/x-python",
   "name": "python",
   "nbconvert_exporter": "python",
   "pygments_lexer": "ipython3",
   "version": "3.9.13"
  }
 },
 "nbformat": 4,
 "nbformat_minor": 5
}
