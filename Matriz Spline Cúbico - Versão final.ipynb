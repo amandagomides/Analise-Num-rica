{
 "cells": [
  {
   "cell_type": "code",
   "execution_count": 1,
   "id": "881eec98",
   "metadata": {},
   "outputs": [],
   "source": [
    "import numpy as np\n",
    "import scipy as sp\n",
    "\n",
    "def spline_matrixA(ListaX):\n",
    "    \n",
    "    m=len(ListaX)\n",
    "    Listah = []\n",
    "    for j in range(m-1):\n",
    "        h = ListaX[j+1]-ListaX[j]\n",
    "        Listah.append(h)\n",
    "    n = len(Listah)\n",
    "    \n",
    "    diag_sup = []\n",
    "    diag = []\n",
    "    diag_inf = []\n",
    "    \n",
    "    for i in range(n-1):\n",
    "        diag_sup.append(Listah[i])\n",
    "        diag.append(2*(Listah[i]+Listah[i+1]))\n",
    "        diag_inf.append(Listah[i+1])\n",
    "        \n",
    "    diagonais = (1/6) * np.array([ diag_sup, diag, diag_inf])\n",
    "    posicoes = [1, 0, -1]\n",
    "    \n",
    "    A = sp.sparse.spdiags(diagonais, posicoes, n-1, n-1)\n",
    "    \n",
    "    return A"
   ]
  },
  {
   "cell_type": "code",
   "execution_count": 11,
   "id": "55f77dd1",
   "metadata": {},
   "outputs": [],
   "source": [
    "def spline_matrixB(ListaX, ListaY):\n",
    "    m=len(ListaX)\n",
    "    ListaH = []\n",
    "    \n",
    "    for j in range(m-1):\n",
    "        h = ListaX[j+1]-ListaX[j]\n",
    "        ListaH.append(h)\n",
    "        \n",
    "    Listah=np.array(ListaH)\n",
    "    n = len(ListaY)\n",
    "    ListaB=[]\n",
    "    for i in range(n-1):\n",
    "        B=(1/Listah[i+1])(ListaY[i+2]-ListaY[i+1])-(1/Listah[i])(ListaY[i+1]-ListaY[i])\n",
    "        ListaB.append(B)"
   ]
  },
  {
   "cell_type": "code",
   "execution_count": 13,
   "id": "b17737d5",
   "metadata": {},
   "outputs": [],
   "source": [
    "def splineAB(ListaX, ListaY, x,i):               #ListaX = dados coordenada X\n",
    "                                                 #ListaY = dados coordenada y\n",
    "    mtxA=spline_matrixA(ListaX)                     #x = valor desejado\n",
    "    mtxB=spline_matrixB(ListaX,ListaY)              #i = grau do spline\n",
    "    X=sp.sparse.linalg.spsolve(mtxA,mtxB)\n",
    "    \n",
    "    m=len(ListaX)\n",
    "    \n",
    "    ListaH=[]\n",
    "    for j in range(m-1):\n",
    "        h = ListaX[j+1]-ListaX[j]\n",
    "        ListaH.append(h)\n",
    "    Listah=np.array(ListaH)\n",
    "\n",
    "    s = (1/6) * (((x-ListaX[i])^3)/Listah[i]) * X[i+1] - (1/6) * ((x-ListaX[i+1])/Listah[i]) * X[i]+ ((ListaY[i+1])/(Listah[i])- (1/6 * (Listah[i]* X[i+1]))*(x-ListaX[i])) + ((ListaY[i])/(Listah[i])- (1/6 * (Listah[i]* X[i]))*(ListaX[i+1])-x)\n",
    "    return s"
   ]
  },
  {
   "cell_type": "code",
   "execution_count": 4,
   "id": "fc7d391c",
   "metadata": {},
   "outputs": [],
   "source": [
    "X = [1872, 1890, 1900, 1920, 1940, 1950, 1960, 1970, 1980, 1991, 2000, 2010]"
   ]
  },
  {
   "cell_type": "code",
   "execution_count": 5,
   "id": "e5b87841",
   "metadata": {},
   "outputs": [],
   "source": [
    "Y = [9930478, 14333915, 17438434, 30635605, 41236315, 51944397, 70992343, 94508583, 121150573, 146917459, 169590693, 190755799]"
   ]
  },
  {
   "cell_type": "code",
   "execution_count": 12,
   "id": "4351342b",
   "metadata": {},
   "outputs": [
    {
     "ename": "TypeError",
     "evalue": "'numpy.float64' object is not callable",
     "output_type": "error",
     "traceback": [
      "\u001b[1;31m---------------------------------------------------------------------------\u001b[0m",
      "\u001b[1;31mTypeError\u001b[0m                                 Traceback (most recent call last)",
      "\u001b[1;32m~\\AppData\\Local\\Temp\\ipykernel_9764\\3054087623.py\u001b[0m in \u001b[0;36m<module>\u001b[1;34m\u001b[0m\n\u001b[1;32m----> 1\u001b[1;33m \u001b[0msplineAB\u001b[0m\u001b[1;33m(\u001b[0m\u001b[0mX\u001b[0m\u001b[1;33m,\u001b[0m\u001b[0mY\u001b[0m\u001b[1;33m,\u001b[0m\u001b[1;36m1900\u001b[0m\u001b[1;33m,\u001b[0m \u001b[1;36m3\u001b[0m\u001b[1;33m)\u001b[0m\u001b[1;33m\u001b[0m\u001b[1;33m\u001b[0m\u001b[0m\n\u001b[0m",
      "\u001b[1;32m~\\AppData\\Local\\Temp\\ipykernel_9764\\475127642.py\u001b[0m in \u001b[0;36msplineAB\u001b[1;34m(ListaX, ListaY, x, i)\u001b[0m\n\u001b[0;32m      2\u001b[0m                                                  \u001b[1;31m#ListaY = dados coordenada y\u001b[0m\u001b[1;33m\u001b[0m\u001b[1;33m\u001b[0m\u001b[0m\n\u001b[0;32m      3\u001b[0m     \u001b[0mmtxA\u001b[0m\u001b[1;33m=\u001b[0m\u001b[0mspline_matrixA\u001b[0m\u001b[1;33m(\u001b[0m\u001b[0mListaX\u001b[0m\u001b[1;33m)\u001b[0m                     \u001b[1;31m#x = valor desejado\u001b[0m\u001b[1;33m\u001b[0m\u001b[1;33m\u001b[0m\u001b[0m\n\u001b[1;32m----> 4\u001b[1;33m     \u001b[0mmtxB\u001b[0m\u001b[1;33m=\u001b[0m\u001b[0mspline_matrixB\u001b[0m\u001b[1;33m(\u001b[0m\u001b[0mListaX\u001b[0m\u001b[1;33m,\u001b[0m\u001b[0mListaY\u001b[0m\u001b[1;33m)\u001b[0m              \u001b[1;31m#i = grau do spline\u001b[0m\u001b[1;33m\u001b[0m\u001b[1;33m\u001b[0m\u001b[0m\n\u001b[0m\u001b[0;32m      5\u001b[0m     \u001b[0mX\u001b[0m\u001b[1;33m=\u001b[0m\u001b[0msp\u001b[0m\u001b[1;33m.\u001b[0m\u001b[0msparse\u001b[0m\u001b[1;33m.\u001b[0m\u001b[0mlinalg\u001b[0m\u001b[1;33m.\u001b[0m\u001b[0mspsolve\u001b[0m\u001b[1;33m(\u001b[0m\u001b[0mmtxA\u001b[0m\u001b[1;33m,\u001b[0m\u001b[0mmtxB\u001b[0m\u001b[1;33m)\u001b[0m\u001b[1;33m\u001b[0m\u001b[1;33m\u001b[0m\u001b[0m\n\u001b[0;32m      6\u001b[0m \u001b[1;33m\u001b[0m\u001b[0m\n",
      "\u001b[1;32m~\\AppData\\Local\\Temp\\ipykernel_9764\\2980535465.py\u001b[0m in \u001b[0;36mspline_matrixB\u001b[1;34m(ListaX, ListaY)\u001b[0m\n\u001b[0;32m     11\u001b[0m     \u001b[0mListaB\u001b[0m\u001b[1;33m=\u001b[0m\u001b[1;33m[\u001b[0m\u001b[1;33m]\u001b[0m\u001b[1;33m\u001b[0m\u001b[1;33m\u001b[0m\u001b[0m\n\u001b[0;32m     12\u001b[0m     \u001b[1;32mfor\u001b[0m \u001b[0mi\u001b[0m \u001b[1;32min\u001b[0m \u001b[0mrange\u001b[0m\u001b[1;33m(\u001b[0m\u001b[0mn\u001b[0m\u001b[1;33m-\u001b[0m\u001b[1;36m1\u001b[0m\u001b[1;33m)\u001b[0m\u001b[1;33m:\u001b[0m\u001b[1;33m\u001b[0m\u001b[1;33m\u001b[0m\u001b[0m\n\u001b[1;32m---> 13\u001b[1;33m         \u001b[0mB\u001b[0m\u001b[1;33m=\u001b[0m\u001b[1;33m(\u001b[0m\u001b[1;36m1\u001b[0m\u001b[1;33m/\u001b[0m\u001b[0mListah\u001b[0m\u001b[1;33m[\u001b[0m\u001b[0mi\u001b[0m\u001b[1;33m+\u001b[0m\u001b[1;36m1\u001b[0m\u001b[1;33m]\u001b[0m\u001b[1;33m)\u001b[0m\u001b[1;33m(\u001b[0m\u001b[0mListaY\u001b[0m\u001b[1;33m[\u001b[0m\u001b[0mi\u001b[0m\u001b[1;33m+\u001b[0m\u001b[1;36m2\u001b[0m\u001b[1;33m]\u001b[0m\u001b[1;33m-\u001b[0m\u001b[0mListaY\u001b[0m\u001b[1;33m[\u001b[0m\u001b[0mi\u001b[0m\u001b[1;33m+\u001b[0m\u001b[1;36m1\u001b[0m\u001b[1;33m]\u001b[0m\u001b[1;33m)\u001b[0m\u001b[1;33m-\u001b[0m\u001b[1;33m(\u001b[0m\u001b[1;36m1\u001b[0m\u001b[1;33m/\u001b[0m\u001b[0mListah\u001b[0m\u001b[1;33m[\u001b[0m\u001b[0mi\u001b[0m\u001b[1;33m]\u001b[0m\u001b[1;33m)\u001b[0m\u001b[1;33m(\u001b[0m\u001b[0mListaY\u001b[0m\u001b[1;33m[\u001b[0m\u001b[0mi\u001b[0m\u001b[1;33m+\u001b[0m\u001b[1;36m1\u001b[0m\u001b[1;33m]\u001b[0m\u001b[1;33m-\u001b[0m\u001b[0mListaY\u001b[0m\u001b[1;33m[\u001b[0m\u001b[0mi\u001b[0m\u001b[1;33m]\u001b[0m\u001b[1;33m)\u001b[0m\u001b[1;33m\u001b[0m\u001b[1;33m\u001b[0m\u001b[0m\n\u001b[0m\u001b[0;32m     14\u001b[0m         \u001b[0mListaB\u001b[0m\u001b[1;33m.\u001b[0m\u001b[0mappend\u001b[0m\u001b[1;33m(\u001b[0m\u001b[0mB\u001b[0m\u001b[1;33m)\u001b[0m\u001b[1;33m\u001b[0m\u001b[1;33m\u001b[0m\u001b[0m\n",
      "\u001b[1;31mTypeError\u001b[0m: 'numpy.float64' object is not callable"
     ]
    }
   ],
   "source": [
    "splineAB(X,Y,1900, 3)"
   ]
  },
  {
   "cell_type": "code",
   "execution_count": null,
   "id": "6786e0b4",
   "metadata": {},
   "outputs": [],
   "source": []
  },
  {
   "cell_type": "code",
   "execution_count": null,
   "id": "87200073",
   "metadata": {},
   "outputs": [],
   "source": []
  }
 ],
 "metadata": {
  "kernelspec": {
   "display_name": "Python 3 (ipykernel)",
   "language": "python",
   "name": "python3"
  },
  "language_info": {
   "codemirror_mode": {
    "name": "ipython",
    "version": 3
   },
   "file_extension": ".py",
   "mimetype": "text/x-python",
   "name": "python",
   "nbconvert_exporter": "python",
   "pygments_lexer": "ipython3",
   "version": "3.9.13"
  }
 },
 "nbformat": 4,
 "nbformat_minor": 5
}
